{
  "nbformat": 4,
  "nbformat_minor": 0,
  "metadata": {
    "colab": {
      "provenance": []
    },
    "kernelspec": {
      "name": "python3",
      "display_name": "Python 3"
    },
    "language_info": {
      "name": "python"
    }
  },
  "cells": [
    {
      "cell_type": "markdown",
      "source": [
        "1. What are data structures, and why are they important ?\n",
        "  >> data structures are specific ways of organizing, storing, and manipulating data efficiently. Python provides both built-in and user-defined data structures to handle various types of data effectively.\n",
        "2. Explain the difference between mutable and immutable data types with examples\n",
        "  >> mutable Definition: These are data types whose values can be modified after the object is created.\n",
        "        my_list = [1, 2, 3]\n",
        "        my_list[0] = 10  # Modify the first element\n",
        "        print(my_list)  # Output: [10, 2, 3]\n",
        "\n",
        "\n",
        "   >>Immutable Definition: These are data types whose values cannot be changed after the object is created.\n",
        "\n",
        "          my_string = \"hello\"\n",
        "          my_string = my_string + \" world\"  # Creates a new string object\n",
        "          print(my_string)  # Output: \"hello world\"\n",
        "          \n",
        "3.  What are the main differences between lists and tuples in Python?\n",
        "    >>In Python, lists and tuples are both used to store collections of items, but they have several key differences.\n",
        "\n",
        "    * Lists: Mutable (their contents can be changed after creation, e.g., you can add, remove, or modify elements).\n",
        "\n",
        "        \n",
        "        my_list = [1, 2, 3]\n",
        "        my_list[0] = 10  # Changes the first element to 10\n",
        "    \n",
        "\n",
        "   * Tuples: Immutable (once created, their contents cannot be changed).\n",
        "\n",
        "\n",
        "          my_tuple = (1, 2, 3)\n",
        "          my_tuple[0] = 10  # Raises a TypeError\n",
        "\n",
        "\n",
        "\n",
        "4. Describe how dictionaries store data?\n",
        "   >>Dictionaries in programming store data as key-value pairs, allowing for efficient data retrieval based on unique keys.\n",
        "\n",
        "5. Why might you use a set instead of a list in Python?\n",
        "   >>You might use a set instead of a list in Python for several reasons, depending on the requirements of your task.\n",
        "\n",
        "6. E What is a string in Python, and how is it different from a list?\n",
        "   >>A string in Python is a sequence of characters used to represent text. It is an immutable data type, meaning its content cannot be changed after creation. Strings are enclosed in either single quotes ('), double quotes (\"), or triple quotes (''' or \"\"\").\n",
        "\n",
        "7. How do tuples ensure data integrity in Python?\n",
        "   >>Tuples in Python ensure data integrity through their immutability, which means their elements cannot be modified after the tuple is created. This immutability offers several advantages for maintaining the integrity of data.\n",
        "\n",
        "8. What is a hash table, and how does it relate to dictionaries in Python?\n",
        "   >>A hash table is a data structure that stores key-value pairs and provides efficient operations for insertion, deletion, and lookup by using a technique called hashing. It achieves this efficiency by mapping keys to specific locations (or indices) in an array through a hash function.\n",
        "\n",
        "9. Can lists contain different data types in Python?\n",
        "   >>Yes, lists in Python can contain elements of different data types. Python lists are highly versatile and allow mixing integers, strings, floats, booleans, objects, and even other lists or complex structures within the same list.\n",
        "\n",
        "10. Explain why strings are immutable in Python?\n",
        "   >>Strings in Python are immutable, meaning that once a string is created, its contents cannot be changed. This design choice is intentional and offers several important benefits in terms of performance, security, and functionality.\n",
        "\n",
        "11. What advantages do dictionaries offer over lists for certain tasks?\n",
        "    >>Dictionaries offer several advantages over lists for certain tasks, primarily due to their key-value mapping and efficient lookups. Here are the key advantages.\n",
        "12. Describe a scenario where using a tuple would be preferable over a list?\n",
        "    >>A tuple is preferable over a list in scenarios where immutability is required, meaning the data should not be changed after creation.\n",
        "\n",
        "13.  How do sets handle duplicate values in Python?\n",
        "     >>In Python, sets automatically handle duplicate values by ensuring that each element in the set is unique. If you try to add duplicate values to a set, they are ignored, and only one instance of each unique value is stored.\n",
        "\n",
        "14.  How does the “in” keyword work differently for lists and dictionaries?\n",
        "     >>The in keyword in Python checks for the presence of an element in a collection, but its behavior differs slightly between lists and dictionaries.\n",
        "\n",
        "15. Can you modify the elements of a tuple? Explain why or why not?\n",
        "    >>No, you cannot modify the elements of a tuple in Python. Tuples are immutable, meaning their elements cannot be changed, added, or removed after the tuple is created. This immutability is a fundamental characteristic of tuples and is enforced by the Python language.\n",
        "\n",
        "16.  What is a nested dictionary, and give an example of its use case?\n",
        "     >>A nested dictionary in Python is a dictionary that contains one or more dictionaries as values. This structure is useful for representing hierarchical or multi-level data in a compact and organized way.\n",
        "\n",
        "17. Describe the time complexity of accessing elements in a dictionary?\n",
        "    >>The time complexity of accessing elements in a dictionary in Python depends on the operation being performed and the internal implementation of dictionaries. Python dictionaries use a hash table as their underlying data structure, which significantly influences their time complexity.\n",
        "\n",
        "18. In what situations are lists preferred over dictionaries?\n",
        "    >>Lists and dictionaries are both versatile data structures in Python, but they are suited for different scenarios. Lists are preferred over dictionaries in the following situation.\n",
        "\n",
        "19. Why are dictionaries considered unordered, and how does that affect data\n",
        "  retrieval.\n",
        "   >>Dictionaries in Python are historically considered unordered because, before Python 3.7, they did not guarantee that the order of keys and values would be preserved. The implementation focused solely on efficient data storage and retrieval using a hash table, which inherently does not maintain order.\n",
        "\n",
        "20. Explain the difference between a list and a dictionary in terms of data retrieval.\n",
        "    >>Lists and dictionaries are both widely used data structures in Python, but they differ significantly in how data is retrieved. Here's a detailed comparison.\n",
        "\n",
        "\n",
        "\n",
        "\n",
        "\n",
        "\n",
        "\n",
        "\n",
        "\n",
        "\n",
        "\n",
        "---\n",
        "\n"
      ],
      "metadata": {
        "id": "GW8GwCzUKZNb"
      }
    },
    {
      "cell_type": "markdown",
      "source": [
        "# Practical Questions"
      ],
      "metadata": {
        "id": "xqmIPAaqOxWq"
      }
    },
    {
      "cell_type": "markdown",
      "source": [
        "1.  Write a code to create a string with your name and print it"
      ],
      "metadata": {
        "id": "1jGRVy0uPHrs"
      }
    },
    {
      "cell_type": "code",
      "source": [
        "my_name = \"Kamlesh\"\n",
        "print(my_name)\n"
      ],
      "metadata": {
        "colab": {
          "base_uri": "https://localhost:8080/"
        },
        "id": "pP3HDTnbPRir",
        "outputId": "0a46219a-4362-4f7b-c4de-da9bd8402d08"
      },
      "execution_count": null,
      "outputs": [
        {
          "output_type": "stream",
          "name": "stdout",
          "text": [
            "Kamlesh\n"
          ]
        }
      ]
    },
    {
      "cell_type": "markdown",
      "source": [
        "2. Write a code to find the length of the string \"Hello World\"."
      ],
      "metadata": {
        "id": "Drwua3X3Pz4s"
      }
    },
    {
      "cell_type": "code",
      "source": [
        "string = \"Hello World\"\n",
        "length = len(string)\n",
        "print(\"The length of the string is:\", length)\n"
      ],
      "metadata": {
        "colab": {
          "base_uri": "https://localhost:8080/"
        },
        "id": "QvSpk8dDQWSp",
        "outputId": "924469c1-0315-45c0-c82c-8a8e19d23b6e"
      },
      "execution_count": null,
      "outputs": [
        {
          "output_type": "stream",
          "name": "stdout",
          "text": [
            "The length of the string is: 11\n"
          ]
        }
      ]
    },
    {
      "cell_type": "markdown",
      "source": [
        "3. Write a code to slice the first 3 characters from the string \"Python Programming\"."
      ],
      "metadata": {
        "id": "p2Z-Oo3zQsQS"
      }
    },
    {
      "cell_type": "code",
      "source": [
        "string = \"Python Programming\"\n",
        "sliced_string = string[:3]\n",
        "print(\"The first 3 characters are:\", sliced_string)\n"
      ],
      "metadata": {
        "colab": {
          "base_uri": "https://localhost:8080/"
        },
        "id": "G7GyNGCbRFxY",
        "outputId": "3d6771ea-d6dc-403e-cce1-01c9c9e9010e"
      },
      "execution_count": null,
      "outputs": [
        {
          "output_type": "stream",
          "name": "stdout",
          "text": [
            "The first 3 characters are: Pyt\n"
          ]
        }
      ]
    },
    {
      "cell_type": "markdown",
      "source": [
        "4. Write a code to convert the string \"hello\" to uppercase."
      ],
      "metadata": {
        "id": "UTflPJynRnyX"
      }
    },
    {
      "cell_type": "code",
      "source": [
        "str = \"hello\"\n",
        "uppercase_str = str.upper()\n",
        "print(\"The str in uppercase is:\", uppercase_string)\n"
      ],
      "metadata": {
        "colab": {
          "base_uri": "https://localhost:8080/"
        },
        "id": "LDE_BpQBSNJv",
        "outputId": "87390119-1fbc-4e67-ca14-710bf672f780"
      },
      "execution_count": null,
      "outputs": [
        {
          "output_type": "stream",
          "name": "stdout",
          "text": [
            "The str in uppercase is: HELLO\n"
          ]
        }
      ]
    },
    {
      "cell_type": "markdown",
      "source": [
        "5. Write a code to replace the word \"apple\" with \"orange\" in the string \"I like apple\"."
      ],
      "metadata": {
        "id": "1l-uAK88Sy2u"
      }
    },
    {
      "cell_type": "code",
      "source": [
        "string = \"I like apple\"\n",
        "new_string = string.replace(\"apple\", \"orange\")\n",
        "print(\"The modified string is:\", new_string)\n"
      ],
      "metadata": {
        "colab": {
          "base_uri": "https://localhost:8080/"
        },
        "id": "edWwPewQS8LG",
        "outputId": "b3e2caee-1b52-494b-eb75-4b02297554f8"
      },
      "execution_count": null,
      "outputs": [
        {
          "output_type": "stream",
          "name": "stdout",
          "text": [
            "The modified string is: I like orange\n"
          ]
        }
      ]
    },
    {
      "cell_type": "markdown",
      "source": [
        "6. Write a code to create a list with numbers 1 to 5 and print it."
      ],
      "metadata": {
        "id": "qITx8YqjUSyK"
      }
    },
    {
      "cell_type": "code",
      "source": [
        "list = [1, 2, 3, 4, 5]\n",
        "print(\"The list is:\", list)\n"
      ],
      "metadata": {
        "colab": {
          "base_uri": "https://localhost:8080/"
        },
        "id": "JafS_MBhUWdA",
        "outputId": "55a77f33-44e1-4cda-ead9-ba3b4e3d42d2"
      },
      "execution_count": null,
      "outputs": [
        {
          "output_type": "stream",
          "name": "stdout",
          "text": [
            "The list is: [1, 2, 3, 4, 5]\n"
          ]
        }
      ]
    },
    {
      "cell_type": "markdown",
      "source": [
        "7. Write a code to append the number 10 to the list [1, 2, 3, 4]"
      ],
      "metadata": {
        "id": "ySPB7sbgU2IM"
      }
    },
    {
      "cell_type": "code",
      "source": [
        "list = [1,2,3,4]\n",
        "list.append(10)\n",
        "print(\"The updated list is:\", list)\n"
      ],
      "metadata": {
        "colab": {
          "base_uri": "https://localhost:8080/"
        },
        "id": "7GshbREEVCLp",
        "outputId": "89a68bd6-c5e6-4ab0-b0fc-abd2e698bbd4"
      },
      "execution_count": null,
      "outputs": [
        {
          "output_type": "stream",
          "name": "stdout",
          "text": [
            "The updated list is: [1, 2, 3, 4, 10]\n"
          ]
        }
      ]
    },
    {
      "cell_type": "markdown",
      "source": [
        "8. Write a code to remove the number 3 from the list [1, 2, 3, 4, 5]."
      ],
      "metadata": {
        "id": "xPo2NI9BVwrB"
      }
    },
    {
      "cell_type": "code",
      "source": [
        "list = [1,2,3,4,5]\n",
        "list.remove(3)\n",
        "print(\"The updated list is:\", list)"
      ],
      "metadata": {
        "colab": {
          "base_uri": "https://localhost:8080/"
        },
        "id": "pJHu5odPWfem",
        "outputId": "c2cdc3c0-f5ac-406e-ec6d-761495a5d4ae"
      },
      "execution_count": null,
      "outputs": [
        {
          "output_type": "stream",
          "name": "stdout",
          "text": [
            "The updated list is: [1, 2, 4, 5]\n"
          ]
        }
      ]
    },
    {
      "cell_type": "markdown",
      "source": [
        "9. Write a code to access the second element in the list ['a', 'b', 'c', 'd']."
      ],
      "metadata": {
        "id": "irWD_-BAWv3i"
      }
    },
    {
      "cell_type": "code",
      "source": [
        "list = [\"a\", \"b\", \"c\", \"d\"]\n",
        "second_element = list[1]\n",
        "print(\"The second element is:\", second_element)"
      ],
      "metadata": {
        "colab": {
          "base_uri": "https://localhost:8080/"
        },
        "id": "-hsC64SLW6cY",
        "outputId": "7f47ae7d-a609-4b6c-843a-257c7e97d99f"
      },
      "execution_count": null,
      "outputs": [
        {
          "output_type": "stream",
          "name": "stdout",
          "text": [
            "The second element is: b\n"
          ]
        }
      ]
    },
    {
      "cell_type": "markdown",
      "source": [
        "10. Write a code to reverse the list [10, 20, 30, 40, 50]"
      ],
      "metadata": {
        "id": "QBqCULKMXbtA"
      }
    },
    {
      "cell_type": "code",
      "source": [
        "list = [10, 20, 30, 40, 50]\n",
        "reversed_list = list[::-1]\n",
        "print(\"The reversed list is:\", reversed_list)"
      ],
      "metadata": {
        "colab": {
          "base_uri": "https://localhost:8080/"
        },
        "id": "qHjXVdxlXnEP",
        "outputId": "08edd3fb-b2a6-41ff-f538-7888713fe78d"
      },
      "execution_count": null,
      "outputs": [
        {
          "output_type": "stream",
          "name": "stdout",
          "text": [
            "The reversed list is: [50, 40, 30, 20, 10]\n"
          ]
        }
      ]
    },
    {
      "cell_type": "markdown",
      "source": [
        "11. Write a code to create a tuple with the elements 10, 20, 30 and print it."
      ],
      "metadata": {
        "id": "hKyIaDa4X73N"
      }
    },
    {
      "cell_type": "code",
      "source": [
        "tuple = (10, 20, 30)\n",
        "print(\"The tuple is:\", tuple)"
      ],
      "metadata": {
        "colab": {
          "base_uri": "https://localhost:8080/"
        },
        "id": "UMwiFj-lYIlQ",
        "outputId": "d4f28bea-92a6-4a2c-db45-ad538a40cdb5"
      },
      "execution_count": null,
      "outputs": [
        {
          "output_type": "stream",
          "name": "stdout",
          "text": [
            "The tuple is: (10, 20, 30)\n"
          ]
        }
      ]
    },
    {
      "cell_type": "markdown",
      "source": [
        "12.  Write a code to access the first element of the tuple ('apple', 'banana', 'cherry')"
      ],
      "metadata": {
        "id": "N-D-uY8UYYLC"
      }
    },
    {
      "cell_type": "code",
      "source": [
        "tuple = (\"apple\", \"banana\", \"cherry\")\n",
        "first_element = tuple[0]\n",
        "print(\"The first element is:\", first_element)"
      ],
      "metadata": {
        "colab": {
          "base_uri": "https://localhost:8080/"
        },
        "id": "-wYTvnluY6cz",
        "outputId": "1f8561ff-9d18-43cd-fe3b-4c8566cd6a4c"
      },
      "execution_count": null,
      "outputs": [
        {
          "output_type": "stream",
          "name": "stdout",
          "text": [
            "The first element is: apple\n"
          ]
        }
      ]
    },
    {
      "cell_type": "markdown",
      "source": [
        "13. Write a code to count how many times the number 2 appears in the tuple (1, 2, 3, 2, 4, 2)."
      ],
      "metadata": {
        "id": "ThcRJj7pZSBx"
      }
    },
    {
      "cell_type": "code",
      "source": [
        "tuple = (1, 2, 3, 2, 4, 2)\n",
        "count = tuple.count(2)\n",
        "print(\"The number 2 appears\", count)"
      ],
      "metadata": {
        "colab": {
          "base_uri": "https://localhost:8080/"
        },
        "id": "ZjuGmM4DZWD4",
        "outputId": "078aacec-cbff-4a6e-bef8-8334a1fdd00f"
      },
      "execution_count": null,
      "outputs": [
        {
          "output_type": "stream",
          "name": "stdout",
          "text": [
            "The number 2 appears 3\n"
          ]
        }
      ]
    },
    {
      "cell_type": "markdown",
      "source": [
        "14. Write a code to find the index of the element \"cat\" in the tuple ('dog', 'cat', 'rabbit')"
      ],
      "metadata": {
        "id": "kKn0RQRUZv-E"
      }
    },
    {
      "cell_type": "code",
      "source": [
        "tuple = (\"dog\", \"cat\", \"rabbit\")\n",
        "index = tuple.index(\"cat\")\n",
        "print(\"The index of the element 'cat' is:\", index)"
      ],
      "metadata": {
        "colab": {
          "base_uri": "https://localhost:8080/"
        },
        "id": "qPG5K6ZBZ6KM",
        "outputId": "865dc81d-dcaf-4e36-ff9c-cae0e8891f47"
      },
      "execution_count": null,
      "outputs": [
        {
          "output_type": "stream",
          "name": "stdout",
          "text": [
            "The index of the element 'cat' is: 1\n"
          ]
        }
      ]
    },
    {
      "cell_type": "markdown",
      "source": [
        "15. Write a code to check if the element \"banana\" is in the tuple ('apple', 'orange', 'banana')"
      ],
      "metadata": {
        "id": "8Djs4zjSaTYk"
      }
    },
    {
      "cell_type": "code",
      "source": [
        "tuple = (\"apple\", \"orange\", \"banana\")\n",
        "if \"banana\" in tuple:\n",
        "    print(\"The element 'banana' is in the tuple.\")\n",
        "else:\n",
        "    print(\"The element 'banana' is not in the tuple.\")"
      ],
      "metadata": {
        "colab": {
          "base_uri": "https://localhost:8080/"
        },
        "id": "BIyZxUuIaW-l",
        "outputId": "53a33791-6b14-44e6-d07d-792ee4e85b80"
      },
      "execution_count": null,
      "outputs": [
        {
          "output_type": "stream",
          "name": "stdout",
          "text": [
            "The element 'banana' is in the tuple.\n"
          ]
        }
      ]
    },
    {
      "cell_type": "markdown",
      "source": [
        "16. Write a code to create a set with the elements 1, 2, 3, 4, 5 and print it."
      ],
      "metadata": {
        "id": "VP0sh23VbAj6"
      }
    },
    {
      "cell_type": "code",
      "source": [
        "ele= {1, 2, 3, 4, 5}\n",
        "print(ele)"
      ],
      "metadata": {
        "colab": {
          "base_uri": "https://localhost:8080/"
        },
        "id": "COE5ue5KbFmI",
        "outputId": "1f160fc4-e2b0-4239-e1e5-87d6c04fa281"
      },
      "execution_count": null,
      "outputs": [
        {
          "output_type": "stream",
          "name": "stdout",
          "text": [
            "{1, 2, 3, 4, 5}\n"
          ]
        }
      ]
    },
    {
      "cell_type": "markdown",
      "source": [
        "17. Write a code to add the element 6 to the set {1, 2, 3, 4}"
      ],
      "metadata": {
        "id": "SaA7k5TNb9Qi"
      }
    },
    {
      "cell_type": "code",
      "source": [
        "num = {1, 2, 3, 4}\n",
        "num.add(6)\n",
        "print(num)"
      ],
      "metadata": {
        "colab": {
          "base_uri": "https://localhost:8080/"
        },
        "id": "qJ9hXTOEcD8O",
        "outputId": "d1027178-183e-4ba0-854d-ab8d9f865e52"
      },
      "execution_count": null,
      "outputs": [
        {
          "output_type": "stream",
          "name": "stdout",
          "text": [
            "{1, 2, 3, 4, 6}\n"
          ]
        }
      ]
    },
    {
      "cell_type": "markdown",
      "source": [
        "18.  Write a code to create a tuple with the elements 10, 20, 30 and print it."
      ],
      "metadata": {
        "id": "KjnEi8GYcTv2"
      }
    },
    {
      "cell_type": "code",
      "source": [
        "tuple = (10, 20, 30)\n",
        "print(tuple)"
      ],
      "metadata": {
        "colab": {
          "base_uri": "https://localhost:8080/"
        },
        "id": "eLACMLRecXBC",
        "outputId": "92a48358-3163-4fa8-9857-c30fb592410a"
      },
      "execution_count": null,
      "outputs": [
        {
          "output_type": "stream",
          "name": "stdout",
          "text": [
            "(10, 20, 30)\n"
          ]
        }
      ]
    },
    {
      "cell_type": "markdown",
      "source": [
        "19. Write a code to access the first element of the tuple ('apple', 'banana', 'cherry')"
      ],
      "metadata": {
        "id": "-_X4sBjjc0Vi"
      }
    },
    {
      "cell_type": "code",
      "source": [
        "tuple = (\"apple\", \"banana\", \"cherry\")\n",
        "print(tuple[0])"
      ],
      "metadata": {
        "colab": {
          "base_uri": "https://localhost:8080/"
        },
        "id": "sQSY7gHRc229",
        "outputId": "a4f1ee33-9351-41ea-8d02-3b3da6ac0ed7"
      },
      "execution_count": null,
      "outputs": [
        {
          "output_type": "stream",
          "name": "stdout",
          "text": [
            "apple\n"
          ]
        }
      ]
    },
    {
      "cell_type": "markdown",
      "source": [
        "20. Write a code to count how many times the number 2 appears in the tuple (1, 2, 3, 2, 4, 2)"
      ],
      "metadata": {
        "id": "Ycxs2IjJdGu2"
      }
    },
    {
      "cell_type": "code",
      "source": [
        "tuple = (1, 2, 3, 2, 4, 2)\n",
        "count = tuple.count(2)\n",
        "print(count)"
      ],
      "metadata": {
        "colab": {
          "base_uri": "https://localhost:8080/"
        },
        "id": "jYC1hSZCdKUv",
        "outputId": "2edce57a-7e31-40ed-fd12-2a9212b324f2"
      },
      "execution_count": null,
      "outputs": [
        {
          "output_type": "stream",
          "name": "stdout",
          "text": [
            "3\n"
          ]
        }
      ]
    },
    {
      "cell_type": "markdown",
      "source": [
        "21. Write a code to find the index of the element \"cat\" in the tuple ('dog', 'cat', 'rabbit')"
      ],
      "metadata": {
        "id": "4u1Y3GTBdkcP"
      }
    },
    {
      "cell_type": "code",
      "source": [
        "tuple = (\"dog\", \"cat\", \"rabbit\")\n",
        "index = tuple.index(\"cat\")\n",
        "print(index)"
      ],
      "metadata": {
        "colab": {
          "base_uri": "https://localhost:8080/"
        },
        "id": "o2tJmKpddmaK",
        "outputId": "fcd57ee2-420f-42fc-a427-1c50eca0ff2f"
      },
      "execution_count": null,
      "outputs": [
        {
          "output_type": "stream",
          "name": "stdout",
          "text": [
            "1\n"
          ]
        }
      ]
    },
    {
      "cell_type": "markdown",
      "source": [
        "22. Write a code to check if the element \"banana\" is in the tuple ('apple', 'orange', 'banana')"
      ],
      "metadata": {
        "id": "Crrx-qcudt5f"
      }
    },
    {
      "cell_type": "code",
      "source": [
        "tuple = (\"apple\", \"orange\", \"banana\")\n",
        "if \"banana\" in tuple:\n",
        "    print(\"The element 'banana' is in the tuple.\")\n",
        "else:\n",
        "    print(\"The element 'banana' is not in the tuple.\")"
      ],
      "metadata": {
        "colab": {
          "base_uri": "https://localhost:8080/"
        },
        "id": "ULePK0b6d00F",
        "outputId": "cd705e49-44e0-4e21-9888-16d53f134b4b"
      },
      "execution_count": null,
      "outputs": [
        {
          "output_type": "stream",
          "name": "stdout",
          "text": [
            "The element 'banana' is in the tuple.\n"
          ]
        }
      ]
    },
    {
      "cell_type": "markdown",
      "source": [
        "23. Write a code to create a set with the elements 1, 2, 3, 4, 5 and print it."
      ],
      "metadata": {
        "id": "xDGT-viFeaDC"
      }
    },
    {
      "cell_type": "code",
      "source": [
        "number = {1, 2, 3, 4, 5}\n",
        "print(number)"
      ],
      "metadata": {
        "colab": {
          "base_uri": "https://localhost:8080/"
        },
        "id": "ymOZvgAHeltg",
        "outputId": "7ce220a7-c974-4712-811f-dffc5f2d48ac"
      },
      "execution_count": null,
      "outputs": [
        {
          "output_type": "stream",
          "name": "stdout",
          "text": [
            "{1, 2, 3, 4, 5}\n"
          ]
        }
      ]
    },
    {
      "cell_type": "markdown",
      "source": [
        "24. Write a code to add the element 6 to the set {1, 2, 3, 4}."
      ],
      "metadata": {
        "id": "od8Omyyse90B"
      }
    },
    {
      "cell_type": "code",
      "source": [
        "number = {1, 2, 3, 4}\n",
        "number.add(6)\n",
        "print(number)"
      ],
      "metadata": {
        "colab": {
          "base_uri": "https://localhost:8080/"
        },
        "id": "css1amotfHhh",
        "outputId": "28947ed3-1ef0-4c60-c880-832b69ae0e88"
      },
      "execution_count": null,
      "outputs": [
        {
          "output_type": "stream",
          "name": "stdout",
          "text": [
            "{1, 2, 3, 4, 6}\n"
          ]
        }
      ]
    }
  ]
}